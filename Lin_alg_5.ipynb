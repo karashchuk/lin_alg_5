{
  "nbformat": 4,
  "nbformat_minor": 0,
  "metadata": {
    "colab": {
      "name": "Lin_alg_5.ipynb",
      "provenance": [],
      "collapsed_sections": []
    },
    "kernelspec": {
      "name": "python3",
      "display_name": "Python 3"
    }
  },
  "cells": [
    {
      "cell_type": "markdown",
      "metadata": {
        "id": "CdBJqcM-3IN0",
        "colab_type": "text"
      },
      "source": [
        "# Решение заданий к уроку 5"
      ]
    },
    {
      "cell_type": "markdown",
      "metadata": {
        "id": "hp4Xwh7tuVIe",
        "colab_type": "text"
      },
      "source": [
        "1. Найти с помощью NumPy SVD для матрицы\n",
        "\n",
        "$$\\begin{pmatrix}\n",
        "1 & 2 & 0\\\\ \n",
        "0 & 0 & 5\\\\ \n",
        "3 & -4 & 2\\\\ \n",
        "1 & 6 & 5\\\\ \n",
        "0 & 1 & 0\n",
        "\\end{pmatrix}.$$\n",
        "\n"
      ]
    },
    {
      "cell_type": "code",
      "metadata": {
        "id": "nV84YvcRuW3e",
        "colab_type": "code",
        "colab": {}
      },
      "source": [
        "import numpy as np\n",
        "np.set_printoptions(precision=7, suppress=True)"
      ],
      "execution_count": 8,
      "outputs": []
    },
    {
      "cell_type": "code",
      "metadata": {
        "id": "1vQTnG55uhwP",
        "colab_type": "code",
        "colab": {
          "base_uri": "https://localhost:8080/",
          "height": 119
        },
        "outputId": "923827a9-1d9e-4c53-85d0-4c066aafb6de"
      },
      "source": [
        "A = np.array([[1, 2,0],\n",
        "              [0,0,5],\n",
        "              [3,-4,2],\n",
        "              [1,6,5],\n",
        "              [0, 1,0]])\n",
        "print(f'Матрица A:\\n{A}')"
      ],
      "execution_count": 9,
      "outputs": [
        {
          "output_type": "stream",
          "text": [
            "Матрица A:\n",
            "[[ 1  2  0]\n",
            " [ 0  0  5]\n",
            " [ 3 -4  2]\n",
            " [ 1  6  5]\n",
            " [ 0  1  0]]\n"
          ],
          "name": "stdout"
        }
      ]
    },
    {
      "cell_type": "code",
      "metadata": {
        "id": "P78bPakAugnW",
        "colab_type": "code",
        "colab": {}
      },
      "source": [
        "U, s, W = np.linalg.svd(A)\n",
        "V = W.T\n",
        "\n",
        "D = np.zeros_like(A, dtype=float)\n",
        "D[np.diag_indices(min(A.shape))] = s"
      ],
      "execution_count": 10,
      "outputs": []
    },
    {
      "cell_type": "code",
      "metadata": {
        "id": "7rLrjOZCu7BI",
        "colab_type": "code",
        "colab": {
          "base_uri": "https://localhost:8080/",
          "height": 102
        },
        "outputId": "336737b6-ce55-4926-a076-c670daf43059"
      },
      "source": [
        "# проверим\n",
        "U.dot(D).dot(V.T)"
      ],
      "execution_count": 29,
      "outputs": [
        {
          "output_type": "execute_result",
          "data": {
            "text/plain": [
              "array([[ 1.,  2.,  0.],\n",
              "       [ 0., -0.,  5.],\n",
              "       [ 3., -4.,  2.],\n",
              "       [ 1.,  6.,  5.],\n",
              "       [-0.,  1., -0.]])"
            ]
          },
          "metadata": {
            "tags": []
          },
          "execution_count": 29
        }
      ]
    },
    {
      "cell_type": "code",
      "metadata": {
        "id": "ddVjRgJW3pl8",
        "colab_type": "code",
        "colab": {
          "base_uri": "https://localhost:8080/",
          "height": 323
        },
        "outputId": "3d374e47-3210-4330-e9bd-543795a991a2"
      },
      "source": [
        "print(f'U: \\n{U}\\n\\nD:\\n{D}\\n\\nV: \\n{V}')"
      ],
      "execution_count": 31,
      "outputs": [
        {
          "output_type": "stream",
          "text": [
            "U: \n",
            "[[ 0.170565   0.1568092 -0.5307751 -0.7990537 -0.161584 ]\n",
            " [ 0.3928702 -0.5293395  0.6134793 -0.4337577  0.0308249]\n",
            " [-0.1436615 -0.8244926 -0.523791   0.1404985  0.0740034]\n",
            " [ 0.888437   0.0607435 -0.2465528  0.3775583 -0.0604263]\n",
            " [ 0.0812505  0.1083184 -0.0823142 -0.1052485  0.9817396]]\n",
            "\n",
            "D:\n",
            "[[8.8248689 0.        0.       ]\n",
            " [0.        6.1406061 0.       ]\n",
            " [0.        0.        2.5327153]\n",
            " [0.        0.        0.       ]\n",
            " [0.        0.        0.       ]]\n",
            "\n",
            "V: \n",
            "[[ 0.0711645 -0.3673782 -0.9273451]\n",
            " [ 0.7170247  0.6651408 -0.2084786]\n",
            " [ 0.6934055 -0.650093   0.3107537]]\n"
          ],
          "name": "stdout"
        }
      ]
    },
    {
      "cell_type": "markdown",
      "metadata": {
        "id": "taDaZyeF3Oiw",
        "colab_type": "text"
      },
      "source": [
        "\n",
        "2. Для матрицы из предыдущего задания найти:\n",
        "\n",
        "    а) евклидову норму;\n",
        "    \n",
        "    б) норму Фробениуса.\n",
        "    "
      ]
    },
    {
      "cell_type": "markdown",
      "metadata": {
        "id": "NHp6OZGL4TGw",
        "colab_type": "text"
      },
      "source": [
        "### Решение\n",
        "\n",
        "__а)__\n",
        "\n",
        "$$\\left \\| A \\right \\|_{E}=\\text{max}\\left (\\frac{\\left \\| Ax \\right \\|}{\\left \\| x \\right \\|}\\right ) =\\mu_{1}$$"
      ]
    },
    {
      "cell_type": "code",
      "metadata": {
        "id": "gubMlQB84wJG",
        "colab_type": "code",
        "colab": {
          "base_uri": "https://localhost:8080/",
          "height": 34
        },
        "outputId": "32f6fdf1-5de9-4689-f727-9206c79b71bc"
      },
      "source": [
        "print(f'Евклидова норма матрица А = {s[0]}')"
      ],
      "execution_count": 33,
      "outputs": [
        {
          "output_type": "stream",
          "text": [
            "Евклидова норма матрица А = 8.824868854820444\n"
          ],
          "name": "stdout"
        }
      ]
    },
    {
      "cell_type": "markdown",
      "metadata": {
        "id": "vSw9xgYx5JE-",
        "colab_type": "text"
      },
      "source": [
        "__б)__\n",
        "\n",
        "Норма Фробениуса:\n",
        "$$\\left \\| A \\right \\|_{F}=\\sqrt{\\sum_{i=1}^{m}\\sum_{j=1}^{n}a_{ij}^{2}}.$$\n",
        "\n",
        "или\n",
        "\n",
        "\n",
        "$$\\left \\| A \\right \\|_{F}=\\sqrt{\\sum_{k=1}^{r}\\mu_{k}^{2}}.$$"
      ]
    },
    {
      "cell_type": "code",
      "metadata": {
        "id": "VqAgaDUSwwxx",
        "colab_type": "code",
        "colab": {
          "base_uri": "https://localhost:8080/",
          "height": 34
        },
        "outputId": "7002ecb3-cab0-472b-d001-7184c9509edc"
      },
      "source": [
        "# Расчет нормы Фробениуса через элементы матрицы А: \n",
        "q = 0\n",
        "n,k = A.shape\n",
        "for i in range(n):\n",
        "  for j in range(k):\n",
        "    q += A[i,j]**2\n",
        "q**(1/2)\n"
      ],
      "execution_count": 19,
      "outputs": [
        {
          "output_type": "execute_result",
          "data": {
            "text/plain": [
              "11.045361017187261"
            ]
          },
          "metadata": {
            "tags": []
          },
          "execution_count": 19
        }
      ]
    },
    {
      "cell_type": "code",
      "metadata": {
        "id": "79sxc2XVvjVQ",
        "colab_type": "code",
        "colab": {
          "base_uri": "https://localhost:8080/",
          "height": 34
        },
        "outputId": "5b475708-77ae-416c-e6ca-035747cd559d"
      },
      "source": [
        "# можно просто посчитать норму А\n",
        "np.linalg.norm(A)"
      ],
      "execution_count": 34,
      "outputs": [
        {
          "output_type": "execute_result",
          "data": {
            "text/plain": [
              "11.045361017187261"
            ]
          },
          "metadata": {
            "tags": []
          },
          "execution_count": 34
        }
      ]
    },
    {
      "cell_type": "code",
      "metadata": {
        "id": "wFK_-Qfc24_c",
        "colab_type": "code",
        "colab": {
          "base_uri": "https://localhost:8080/",
          "height": 34
        },
        "outputId": "cb11cc31-649d-4dae-e1c8-5bf378e74b49"
      },
      "source": [
        "# Расчет нормы Фробениуса если известно SVD:\n",
        "q = 0\n",
        "for i in s:\n",
        "  q += i**2\n",
        "q**(1/2)\n"
      ],
      "execution_count": 37,
      "outputs": [
        {
          "output_type": "execute_result",
          "data": {
            "text/plain": [
              "11.045361017187263"
            ]
          },
          "metadata": {
            "tags": []
          },
          "execution_count": 37
        }
      ]
    },
    {
      "cell_type": "code",
      "metadata": {
        "id": "QAjSSnkYwQ-v",
        "colab_type": "code",
        "colab": {
          "base_uri": "https://localhost:8080/",
          "height": 34
        },
        "outputId": "467a62c6-06c5-4ba4-ed88-7471528733ab"
      },
      "source": [
        "# или просто\n",
        "np.linalg.norm(s)"
      ],
      "execution_count": 36,
      "outputs": [
        {
          "output_type": "execute_result",
          "data": {
            "text/plain": [
              "11.045361017187263"
            ]
          },
          "metadata": {
            "tags": []
          },
          "execution_count": 36
        }
      ]
    }
  ]
}